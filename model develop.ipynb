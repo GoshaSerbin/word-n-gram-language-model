{
 "cells": [
  {
   "cell_type": "code",
   "execution_count": 1,
   "metadata": {
    "id": "lmkvvzOdNMdj"
   },
   "outputs": [],
   "source": [
    "import re\n",
    "from collections import Counter, defaultdict\n",
    "from typing import Dict, Iterable, List, Tuple\n",
    "\n",
    "import ipywidgets as widgets\n",
    "import matplotlib.pyplot as plt\n",
    "import nltk\n",
    "import numpy as np\n",
    "import pandas as pd\n",
    "from sklearn.model_selection import train_test_split\n",
    "from ipywidgets import interact"
   ]
  },
  {
   "cell_type": "markdown",
   "metadata": {},
   "source": [
    "# Чтение данных"
   ]
  },
  {
   "cell_type": "markdown",
   "metadata": {},
   "source": [
    "## Общие функции"
   ]
  },
  {
   "cell_type": "code",
   "execution_count": 2,
   "metadata": {
    "id": "IbJSnCl7-j8q"
   },
   "outputs": [],
   "source": [
    "def has_text(message):\n",
    "  return message['text']!= ''"
   ]
  },
  {
   "cell_type": "code",
   "execution_count": 3,
   "metadata": {},
   "outputs": [],
   "source": [
    "import json\n",
    "\n",
    "def extract_text(message):    \n",
    "    result = ''\n",
    "    for token in message['text']:\n",
    "        if isinstance(token, dict):\n",
    "            result += token['text']\n",
    "        elif isinstance(token, str):\n",
    "            result += token\n",
    "    return result.strip()\n",
    "\n",
    "def has_content(text, length = 5):\n",
    "    return len(text.split()) >= length\n",
    "\n",
    "def delete_spam(text, spam_words):\n",
    "    for word in spam_words:\n",
    "        text = text.replace(word, \"\")    \n",
    "    return text\n",
    "\n",
    "def is_spam_text(text, spam_texts):\n",
    "    for sequence in spam_texts:  \n",
    "        if text.find(sequence) != -1:\n",
    "            return True\n",
    "    return False"
   ]
  },
  {
   "cell_type": "code",
   "execution_count": null,
   "metadata": {},
   "outputs": [],
   "source": []
  },
  {
   "cell_type": "markdown",
   "metadata": {},
   "source": [
    "## RT"
   ]
  },
  {
   "cell_type": "code",
   "execution_count": 4,
   "metadata": {},
   "outputs": [],
   "source": [
    "file_name = 'RT.json'\n",
    "data = pd.read_json(file_name)\n",
    "data = data[data['messages'].apply(has_text)]['messages'].reset_index(drop=True)\n",
    "texts = data.apply(extract_text).reset_index(drop=True)"
   ]
  },
  {
   "cell_type": "code",
   "execution_count": 5,
   "metadata": {},
   "outputs": [],
   "source": [
    "import re\n",
    "\n",
    "def default_processing(text):\n",
    "    text = text.replace(\"ё\", \"е\")\n",
    "    text = re.sub(r'https?:\\/\\/[^\\s]+', 'www.russiatomorrow.com', text)\n",
    "    text = re.sub(r'russian.rt.com\\/[^\\s\\/]+', 'www.russiatomorrow.com', text)\n",
    "    text = re.sub(r'@[^\\s]+', '@russiatomorrow', text)\n",
    "    text = re.sub(r'[«»\"]', '', text)\n",
    "    text = text.strip(':; ')\n",
    "    text = text.lstrip('.: ')\n",
    "    if text[-1] not in '!?.':\n",
    "        text = text+'.'\n",
    "        \n",
    "    return text"
   ]
  },
  {
   "cell_type": "code",
   "execution_count": 6,
   "metadata": {},
   "outputs": [],
   "source": [
    "spam_words = [\"@rt_russian\", \"🟩 Подпишись — RT на русском\", \"@RT_RUSSIA\", \"Ruptly\"]\n",
    "spam_texts = [\"читайте в нашей подборке\", \"Подробнее — в видео\", \"Подпишись на канал\", \"Валентин Богданов\", \"ГОЛОВАНОВ\", \"оброе утро\",\"обрый вечер\", \"в традиционной рубрике Бесит\", \"главные новости о\", \"Главные новости к\"]\n",
    "texts = texts.apply(lambda x: x.split(\"\\n\")).explode()\n",
    "texts = texts.apply(lambda x: delete_spam(x, spam_words))\n",
    "texts = texts[texts.apply(has_content)]\n",
    "texts = texts[~texts.apply(lambda x: is_spam_text(x, spam_texts))]\n",
    "texts = texts.apply(default_processing).reset_index(drop=True)"
   ]
  },
  {
   "cell_type": "code",
   "execution_count": 7,
   "metadata": {},
   "outputs": [
    {
     "name": "stdout",
     "output_type": "stream",
     "text": [
      "293531\n",
      "100-я бригада Народной милиции ЛНР прорвала линию обороны противника на Луганском направлении и продвинулась вглубь на 7 км.\n"
     ]
    }
   ],
   "source": [
    "id = np.random.randint(texts.size)\n",
    "print(id, texts[id], sep='\\n')"
   ]
  },
  {
   "cell_type": "code",
   "execution_count": 8,
   "metadata": {},
   "outputs": [],
   "source": [
    "texts1 = texts"
   ]
  },
  {
   "cell_type": "code",
   "execution_count": 9,
   "metadata": {},
   "outputs": [
    {
     "data": {
      "text/plain": [
       "[]"
      ]
     },
     "execution_count": 9,
     "metadata": {},
     "output_type": "execute_result"
    }
   ],
   "source": [
    "list(texts1[texts1.str.find(\"главные новости о\") != -1])"
   ]
  },
  {
   "cell_type": "markdown",
   "metadata": {},
   "source": [
    "## RIA"
   ]
  },
  {
   "cell_type": "code",
   "execution_count": 10,
   "metadata": {},
   "outputs": [],
   "source": [
    "file_name = 'RIA.json'\n",
    "data = pd.read_json(file_name)\n",
    "data = data[data['messages'].apply(has_text)]['messages'].reset_index(drop=True)\n",
    "texts = data.apply(extract_text).reset_index(drop=True)"
   ]
  },
  {
   "cell_type": "code",
   "execution_count": 11,
   "metadata": {},
   "outputs": [],
   "source": [
    "import re\n",
    "\n",
    "def RIA_processing(text):\n",
    "    \n",
    "    if text.startswith(\"РИА Новости\"):\n",
    "        letter = text.lstrip(\"РИА Новости\")[0]\n",
    "        if letter == letter.upper():\n",
    "            text = text.lstrip(\"РИА Новости\")\n",
    "    text = text.replace(\"РИА Новости\", \"RussiaTomorrow\")\n",
    "    return text"
   ]
  },
  {
   "cell_type": "code",
   "execution_count": 12,
   "metadata": {},
   "outputs": [],
   "source": [
    "spam_words = ['UPD']\n",
    "spam_texts = [' / ']\n",
    "texts = texts.apply(lambda x: x.split(\"\\n\")).explode()\n",
    "texts = texts.apply(lambda x: delete_spam(x, spam_words))\n",
    "texts = texts[texts.apply(has_content)]\n",
    "texts = texts[~texts.apply(lambda x: is_spam_text(x, spam_texts))]\n",
    "texts = texts.apply(default_processing).reset_index(drop=True)\n",
    "texts = texts.apply(RIA_processing).reset_index(drop=True)"
   ]
  },
  {
   "cell_type": "code",
   "execution_count": 13,
   "metadata": {},
   "outputs": [
    {
     "name": "stdout",
     "output_type": "stream",
     "text": [
      "251412\n",
      "В Париже стартовала очередная, уже 12-я по счету акция протеста против пенсионной реформы.\n"
     ]
    }
   ],
   "source": [
    "id = np.random.randint(texts.size)\n",
    "print(id, texts[id], sep='\\n')"
   ]
  },
  {
   "cell_type": "code",
   "execution_count": 14,
   "metadata": {},
   "outputs": [],
   "source": [
    "texts2 = texts"
   ]
  },
  {
   "cell_type": "markdown",
   "metadata": {},
   "source": [
    "## TASS"
   ]
  },
  {
   "cell_type": "code",
   "execution_count": 15,
   "metadata": {},
   "outputs": [],
   "source": [
    "file_name = 'TASS.json'\n",
    "data = pd.read_json(file_name)\n",
    "data = data[data['messages'].apply(has_text)]['messages'].reset_index(drop=True)\n",
    "texts = data.apply(extract_text).reset_index(drop=True)"
   ]
  },
  {
   "cell_type": "code",
   "execution_count": 16,
   "metadata": {},
   "outputs": [],
   "source": [
    "spam_words = []\n",
    "spam_texts = []\n",
    "texts = texts.apply(lambda x: x.split(\"\\n\")).explode()\n",
    "texts = texts.apply(lambda x: delete_spam(x, spam_words))\n",
    "texts = texts[texts.apply(has_content)]\n",
    "texts = texts[~texts.apply(lambda x: is_spam_text(x, spam_texts))]\n",
    "texts = texts.apply(default_processing).reset_index(drop=True)\n",
    "texts = texts.apply(lambda x: x.replace(\"ТАСС\", \"RussiaTomorrow\")).reset_index(drop=True)"
   ]
  },
  {
   "cell_type": "code",
   "execution_count": 17,
   "metadata": {},
   "outputs": [
    {
     "name": "stdout",
     "output_type": "stream",
     "text": [
      "253444\n",
      "Памятник председателю Совета Министров СССР, дважды Герою Социалистического Труда Николаю Тихонову демонтирован в Харькове, сообщило местное издание Kharkiv today.\n"
     ]
    }
   ],
   "source": [
    "id = np.random.randint(texts.size)\n",
    "print(id, texts[id], sep='\\n')"
   ]
  },
  {
   "cell_type": "code",
   "execution_count": 18,
   "metadata": {},
   "outputs": [],
   "source": [
    "texts3 = texts"
   ]
  },
  {
   "cell_type": "code",
   "execution_count": 19,
   "metadata": {},
   "outputs": [
    {
     "data": {
      "text/plain": [
       "7583     - Дейенерис Таргариен отправилась через море п...\n",
       "7584     - Джон Сноу не только воскрес, но и победил в ...\n",
       "7585     - Серсея Ланнистер взорвала Великую септу Бейл...\n",
       "7586     - Арья Старк наконец-то стала никем, отомстила...\n",
       "7587     - Король ночи со своим бесчисленным войском ме...\n",
       "11299    - Отменяется обязательное ношение масок на ули...\n",
       "11300    - Отменяются все ограничения в сфере предприни...\n",
       "11301    - Компании и организации смогут самостоятельно...\n",
       "11302    - Все образовательные учреждения, детские лаге...\n",
       "11303    - Снимаются ограничения на работу аттракционов...\n",
       "11304    - Смогут открыться театры, кинотеатры и концер...\n",
       "11305    - Увеличат число зрителей на спортивных соревн...\n",
       "11306    - Смогут заработать кружки и секции программы ...\n",
       "Name: messages, dtype: object"
      ]
     },
     "execution_count": 19,
     "metadata": {},
     "output_type": "execute_result"
    }
   ],
   "source": [
    "texts[texts.apply(lambda x: x.startswith('- '))]"
   ]
  },
  {
   "cell_type": "code",
   "execution_count": 20,
   "metadata": {},
   "outputs": [
    {
     "name": "stdout",
     "output_type": "stream",
     "text": [
      "[]\n"
     ]
    }
   ],
   "source": [
    "print(list(texts[texts.str.find('ТАСС')!= -1]))"
   ]
  },
  {
   "cell_type": "markdown",
   "metadata": {},
   "source": [
    "## Гарри поттер"
   ]
  },
  {
   "cell_type": "code",
   "execution_count": 21,
   "metadata": {},
   "outputs": [],
   "source": [
    "file_name = 'HP1RUS.TXT'\n",
    "with open(file_name, 'r') as file:\n",
    "    text = file.read()\n",
    "texts = text.split('. ')\n",
    "for i in range(len(texts)):\n",
    "    texts[i] = texts[i].replace(\"\\n\", \"\")\n",
    "texts = [text for text in texts if 5 < len(text)]\n",
    "\n",
    "texts4 = texts"
   ]
  },
  {
   "cell_type": "markdown",
   "metadata": {},
   "source": [
    "## Сборка"
   ]
  },
  {
   "cell_type": "code",
   "execution_count": 22,
   "metadata": {},
   "outputs": [
    {
     "data": {
      "text/plain": [
       "1038031"
      ]
     },
     "execution_count": 22,
     "metadata": {},
     "output_type": "execute_result"
    }
   ],
   "source": [
    "texts1.size + texts2.size + texts3.size + len(texts4) "
   ]
  },
  {
   "cell_type": "code",
   "execution_count": 23,
   "metadata": {
    "colab": {
     "base_uri": "https://localhost:8080/",
     "height": 423
    },
    "id": "xK5lHNqq33RJ",
    "outputId": "ad0c5349-abc3-4ba1-a731-13d516ce5109"
   },
   "outputs": [
    {
     "data": {
      "text/plain": [
       "0          Добрый день, дорогие читатели www.russiatomorr...\n",
       "1          Футболисты сборной Румынии переживают за детей...\n",
       "2          На меня произвело впечатление, что Россия опер...\n",
       "3          На неделе выйдет полное интерьвью с Виталием М...\n",
       "4          СРОЧНО: Неизвестные захватили самолет EgyptAir...\n",
       "                                 ...                        \n",
       "1019202    По данным ФСБ, он передавал данные о местах ди...\n",
       "1019203                           Видео: УФСБ России по ЛНР.\n",
       "1019204    💬💬💬 Бывший командующий армией сербов Боснии и ...\n",
       "1019205    Младич также подчеркнул, что его отец всегда п...\n",
       "1019206    Он в первую очередь боевой генерал, он научен ...\n",
       "Name: messages, Length: 1019207, dtype: object"
      ]
     },
     "execution_count": 23,
     "metadata": {},
     "output_type": "execute_result"
    }
   ],
   "source": [
    "texts = pd.concat([texts1,texts2, texts3], ignore_index=True)\n",
    "texts"
   ]
  },
  {
   "cell_type": "code",
   "execution_count": 24,
   "metadata": {},
   "outputs": [
    {
     "name": "stdout",
     "output_type": "stream",
     "text": [
      "Теперь наша борьба с теми же фишинговыми сайтами будет еще более простой, — отметил замглавы министерства Олег Качанов.\n"
     ]
    }
   ],
   "source": [
    "print(texts[np.random.randint(texts.size)])"
   ]
  },
  {
   "cell_type": "code",
   "execution_count": 25,
   "metadata": {
    "colab": {
     "base_uri": "https://localhost:8080/",
     "height": 454
    },
    "id": "-ByU-jMfOMXH",
    "outputId": "d3021b33-4b5f-40f9-ec8f-6d400c8c6871"
   },
   "outputs": [
    {
     "data": {
      "image/png": "[encoded data removed]",
      "text/plain": [
       "<Figure size 640x480 with 1 Axes>"
      ]
     },
     "metadata": {},
     "output_type": "display_data"
    }
   ],
   "source": [
    "text_by_length = texts.str.len().value_counts().sort_index()\n",
    "\n",
    "plt.plot(text_by_length.index, text_by_length.values)\n",
    "plt.xlabel(\"length\")\n",
    "plt.ylabel(\"number of pages\")\n",
    "plt.xscale(\"log\")"
   ]
  },
  {
   "cell_type": "code",
   "execution_count": 771,
   "metadata": {},
   "outputs": [
    {
     "name": "stderr",
     "output_type": "stream",
     "text": [
      "[nltk_data] Downloading package punkt to\n",
      "[nltk_data]     C:\\Users\\gosha\\AppData\\Roaming\\nltk_data...\n",
      "[nltk_data]   Unzipping tokenizers\\punkt.zip.\n"
     ]
    },
    {
     "data": {
      "text/plain": [
       "True"
      ]
     },
     "execution_count": 771,
     "metadata": {},
     "output_type": "execute_result"
    }
   ],
   "source": [
    "import nltk\n",
    "nltk.download('punkt')"
   ]
  },
  {
   "cell_type": "code",
   "execution_count": 26,
   "metadata": {
    "id": "aCdFA2_IOUgq"
   },
   "outputs": [],
   "source": [
    "from nltk.tokenize import sent_tokenize, word_tokenize\n",
    "\n",
    "def normalize_and_tokenize(text: str) -> List[str]:\n",
    "    text = text.lower()\n",
    "    text = re.sub('[^а-я0-9a-z,.\\-?!–: ]', \" \", text)\n",
    "    text = re.sub(\" +\", \" \", text).strip()\n",
    "    \n",
    "    text = nltk.word_tokenize(text)\n",
    "    return text\n",
    "\n",
    "tokenized_texts = texts.apply(normalize_and_tokenize).values.tolist()"
   ]
  },
  {
   "cell_type": "code",
   "execution_count": 28,
   "metadata": {
    "scrolled": true
   },
   "outputs": [
    {
     "name": "stdout",
     "output_type": "stream",
     "text": [
      "1019207\n",
      "1016632\n"
     ]
    }
   ],
   "source": [
    "min_len = 6\n",
    "filtered_tokenized_texts = list(filter(lambda message: len(message) >= min_len, tokenized_texts))\n",
    "bad_tokenized_texts = list(filter(lambda message: min_len-1 <=len(message) < min_len, tokenized_texts)) \n",
    "print(len(tokenized_texts))\n",
    "print(len(filtered_tokenized_texts))"
   ]
  },
  {
   "cell_type": "code",
   "execution_count": 29,
   "metadata": {},
   "outputs": [],
   "source": [
    "tokenized_texts4 =[normalize_and_tokenize(text) for text in texts4]\n",
    "tokenized_texts4 = [text for text in tokenized_texts4 if 5 < len(text)]"
   ]
  },
  {
   "cell_type": "code",
   "execution_count": 30,
   "metadata": {},
   "outputs": [],
   "source": [
    "filtered_tokenized_texts = filtered_tokenized_texts + tokenized_texts4"
   ]
  },
  {
   "cell_type": "markdown",
   "metadata": {},
   "source": [
    "### Сохраняем токенизированные тексты для деплоя"
   ]
  },
  {
   "cell_type": "code",
   "execution_count": 31,
   "metadata": {},
   "outputs": [],
   "source": [
    "import pickle\n",
    "with open('filtered_tokenized_texts 5.pkl', 'wb') as f:\n",
    "    pickle.dump(filtered_tokenized_texts, f)"
   ]
  },
  {
   "cell_type": "code",
   "execution_count": 32,
   "metadata": {
    "id": "d9TeQ7ivOaIG"
   },
   "outputs": [],
   "source": [
    "# SEED = 42\n",
    "# train_set, val_set = train_test_split(\n",
    "#     filtered_tokenized_texts, test_size=0.9, random_state=SEED\n",
    "# )\n",
    "\n",
    "train_set = filtered_tokenized_texts"
   ]
  },
  {
   "cell_type": "code",
   "execution_count": 33,
   "metadata": {
    "id": "uGCX9DhGPSBH"
   },
   "outputs": [],
   "source": [
    "BOS = \"<BOS>\"\n",
    "EOS = \"<EOS>\"\n",
    "\n",
    "ngrams_config = {\n",
    "    \"pad_left\": True,\n",
    "    \"pad_right\": True,\n",
    "    \"left_pad_symbol\": BOS,\n",
    "    \"right_pad_symbol\": EOS,\n",
    "}\n",
    "\n",
    "\n",
    "def build_ngram_counts(\n",
    "    tokenized_texts: Iterable[Iterable[str]], n: int\n",
    ") -> Dict[Tuple[str, ...], Dict[str, int]]:\n",
    "    \"\"\"\n",
    "    встречаемость слова при условии (n - 1) предыдущего слова\n",
    "\n",
    "    для n = 2:\n",
    "        {\n",
    "            ('добрый',): {'день': 273, 'вечер': 55, 'путь': 8, ...},\n",
    "            ('машинное',): {'масло': 2, 'отделение': 6, 'обучение': 4, ...}\n",
    "            ...\n",
    "        }\n",
    "\n",
    "    для n = 3:\n",
    "         {\n",
    "            ('<BOS>', '<BOS>'): {'мэр': 22, 'выпуск': 40, ...},\n",
    "            ('<BOS>', 'мэр'): {'москвы': 3, 'перми': 3, ...},\n",
    "            ...\n",
    "        }\n",
    "    \"\"\"\n",
    "\n",
    "    counts = defaultdict(Counter)\n",
    "\n",
    "    for text in tokenized_texts:\n",
    "      for ngram in nltk.ngrams(text, n, **ngrams_config):\n",
    "        prefix = ngram[:-1]\n",
    "        token = ngram[-1]\n",
    "        counts[prefix][token] += 1\n",
    "\n",
    "    return counts"
   ]
  },
  {
   "cell_type": "code",
   "execution_count": 34,
   "metadata": {
    "id": "OVyt6wQoOw71"
   },
   "outputs": [],
   "source": [
    "class LanguageModel:\n",
    "    def __init__(self, tokenized_texts: Iterable[Iterable[str]], n: int) -> None:\n",
    "        self.n: int = n\n",
    "        self.probs: Dict[Tuple[str, ...], Dict[str, float]] = defaultdict(Counter)\n",
    "        ngrams = build_ngram_counts(tokenized_texts, n)\n",
    "        for prefix, distribution in ngrams.items():\n",
    "            total_count = sum(distribution.values())\n",
    "            self.probs[prefix] = Counter({\n",
    "                token: count/ total_count for token,count in distribution.items()\n",
    "            })\n",
    "\n",
    "    def get_token_distribution(self, prefix: List[str]) -> Dict[str, float]:\n",
    "        prefix = prefix[max(0, len(prefix) - self.n + 1) :]\n",
    "        prefix = [BOS] * (self.n - 1 - len(prefix)) + prefix\n",
    "        return self.probs[tuple(prefix)]\n",
    "\n",
    "    def get_next_token_prob(self, prefix: List[str], token: str) -> float:\n",
    "        return self.get_token_distribution(prefix)[token]"
   ]
  },
  {
   "cell_type": "code",
   "execution_count": 35,
   "metadata": {
    "id": "nkjVwTR8N7Wd"
   },
   "outputs": [],
   "source": [
    "def get_next_token(\n",
    "    lm: LanguageModel, prefix: List[str], temperature: float = 1.0\n",
    ") -> str:\n",
    "    \"\"\"\n",
    "    * получение распределения вероятностей для следующего слова при условии префикса\n",
    "    * сэмплирование из полученного распределения с температурой\n",
    "    \"\"\"\n",
    "\n",
    "    distribution: Dict[str, float] = lm.get_token_distribution(prefix)\n",
    "\n",
    "    probs = [v ** (1/temperature) for v in distribution.values()]\n",
    "    total_proba = sum(probs)\n",
    "    scaled_probs = [p / total_proba for p in probs]\n",
    "    token_array = np.random.choice(list(distribution.keys()), size = 1, p =scaled_probs)\n",
    "\n",
    "    return token_array[0]"
   ]
  },
  {
   "cell_type": "code",
   "execution_count": 36,
   "metadata": {},
   "outputs": [],
   "source": [
    "model = LanguageModel(train_set, n=4)"
   ]
  },
  {
   "cell_type": "code",
   "execution_count": 108,
   "metadata": {
    "colab": {
     "base_uri": "https://localhost:8080/"
    },
    "id": "u6iMBZwgYzBp",
    "outputId": "cffefa35-683f-4716-c987-63535cdb4009"
   },
   "outputs": [
    {
     "name": "stdout",
     "output_type": "stream",
     "text": [
      "Источники в wikileaks сообщили о переводе джулиана ассанжа в тюрьме белмарш ассанжа продержали уже более тысячи человек, выписаны 16. Накануне был выписан 4491 человек."
     ]
    }
   ],
   "source": [
    "import string\n",
    "import re\n",
    "\n",
    "sentence = \" \".join(normalize_and_tokenize(texts[texts.str.len()>20].iloc[np.random.randint(100000)])[:3])\n",
    "temps = np.linspace(0.5,5,31)\n",
    "for i in range(30):\n",
    "    token = get_next_token(lm =model, prefix = sentence.split(), temperature = temps[i])   \n",
    "    if token == EOS:\n",
    "        break\n",
    "    sentence += f' {token}'\n",
    "    if token == '.' and i > 20:\n",
    "        break\n",
    "\n",
    "\n",
    "sentence = sentence[0].upper() + sentence[1:]\n",
    "# if sentence[0] == '«':    \n",
    "#     sentence = sentence[0]+sentence[1].upper() + sentence[2:]\n",
    "# if sentence[-1] not in ':.!?':\n",
    "#     sentence = sentence + '.'\n",
    "pat = \"\\s+([{}]+)\".format(re.escape(string.punctuation))\n",
    "sentence = re.sub(\"\\s{2,}\", \" \", re.sub(pat, r\"\\1\", sentence))\n",
    "sentence = sentence.replace('- ', '-')\n",
    "sentence = re.sub(r'(?<=[.!?]\\s)(\\w)', lambda x: x.group(1).upper(), sentence)\n",
    "print(sentence, end = '')\n",
    "if i == 29:\n",
    "    print('...')"
   ]
  },
  {
   "cell_type": "code",
   "execution_count": 164,
   "metadata": {},
   "outputs": [
    {
     "name": "stdout",
     "output_type": "stream",
     "text": [
      "33897\n"
     ]
    }
   ],
   "source": [
    "import nltk\n",
    "from nltk.probability import FreqDist\n",
    "sentences = texts[:20000]\n",
    "words = []\n",
    "for sentence in sentences:\n",
    "    words.extend(nltk.word_tokenize(sentence.lower()))\n",
    "\n",
    "fdist = FreqDist(words)\n",
    "\n",
    "unique_words = [word for word, count in fdist.items() if count == 1]\n",
    "print(len(unique_words))"
   ]
  },
  {
   "cell_type": "code",
   "execution_count": null,
   "metadata": {},
   "outputs": [],
   "source": []
  }
 ],
 "metadata": {
  "colab": {
   "provenance": []
  },
  "kernelspec": {
   "display_name": "Python 3 (ipykernel)",
   "language": "python",
   "name": "python3"
  },
  "language_info": {
   "codemirror_mode": {
    "name": "ipython",
    "version": 3
   },
   "file_extension": ".py",
   "mimetype": "text/x-python",
   "name": "python",
   "nbconvert_exporter": "python",
   "pygments_lexer": "ipython3",
   "version": "3.10.5"
  },
  "widgets": {
   "application/vnd.jupyter.widget-state+json": {
    "431306af0abb46a9b5ff158e6758b30e": {
     "model_module": "@jupyter-widgets/base",
     "model_module_version": "1.2.0",
     "model_name": "LayoutModel",
     "state": {
      "_model_module": "@jupyter-widgets/base",
      "_model_module_version": "1.2.0",
      "_model_name": "LayoutModel",
      "_view_count": null,
      "_view_module": "@jupyter-widgets/base",
      "_view_module_version": "1.2.0",
      "_view_name": "LayoutView",
      "align_content": null,
      "align_items": null,
      "align_self": null,
      "border": null,
      "bottom": null,
      "display": null,
      "flex": null,
      "flex_flow": null,
      "grid_area": null,
      "grid_auto_columns": null,
      "grid_auto_flow": null,
      "grid_auto_rows": null,
      "grid_column": null,
      "grid_gap": null,
      "grid_row": null,
      "grid_template_areas": null,
      "grid_template_columns": null,
      "grid_template_rows": null,
      "height": null,
      "justify_content": null,
      "justify_items": null,
      "left": null,
      "margin": null,
      "max_height": null,
      "max_width": null,
      "min_height": null,
      "min_width": null,
      "object_fit": null,
      "object_position": null,
      "order": null,
      "overflow": null,
      "overflow_x": null,
      "overflow_y": null,
      "padding": null,
      "right": null,
      "top": null,
      "visibility": null,
      "width": null
     }
    },
    "4b7bf203d6324f7597d396548692360e": {
     "model_module": "@jupyter-widgets/base",
     "model_module_version": "1.2.0",
     "model_name": "LayoutModel",
     "state": {
      "_model_module": "@jupyter-widgets/base",
      "_model_module_version": "1.2.0",
      "_model_name": "LayoutModel",
      "_view_count": null,
      "_view_module": "@jupyter-widgets/base",
      "_view_module_version": "1.2.0",
      "_view_name": "LayoutView",
      "align_content": null,
      "align_items": null,
      "align_self": null,
      "border": null,
      "bottom": null,
      "display": null,
      "flex": null,
      "flex_flow": null,
      "grid_area": null,
      "grid_auto_columns": null,
      "grid_auto_flow": null,
      "grid_auto_rows": null,
      "grid_column": null,
      "grid_gap": null,
      "grid_row": null,
      "grid_template_areas": null,
      "grid_template_columns": null,
      "grid_template_rows": null,
      "height": null,
      "justify_content": null,
      "justify_items": null,
      "left": null,
      "margin": null,
      "max_height": null,
      "max_width": null,
      "min_height": null,
      "min_width": null,
      "object_fit": null,
      "object_position": null,
      "order": null,
      "overflow": null,
      "overflow_x": null,
      "overflow_y": null,
      "padding": null,
      "right": null,
      "top": null,
      "visibility": null,
      "width": null
     }
    },
    "6476bfa8e8704d328e477fefa214fee2": {
     "model_module": "@jupyter-widgets/base",
     "model_module_version": "1.2.0",
     "model_name": "LayoutModel",
     "state": {
      "_model_module": "@jupyter-widgets/base",
      "_model_module_version": "1.2.0",
      "_model_name": "LayoutModel",
      "_view_count": null,
      "_view_module": "@jupyter-widgets/base",
      "_view_module_version": "1.2.0",
      "_view_name": "LayoutView",
      "align_content": null,
      "align_items": null,
      "align_self": null,
      "border": null,
      "bottom": null,
      "display": null,
      "flex": null,
      "flex_flow": null,
      "grid_area": null,
      "grid_auto_columns": null,
      "grid_auto_flow": null,
      "grid_auto_rows": null,
      "grid_column": null,
      "grid_gap": null,
      "grid_row": null,
      "grid_template_areas": null,
      "grid_template_columns": null,
      "grid_template_rows": null,
      "height": null,
      "justify_content": null,
      "justify_items": null,
      "left": null,
      "margin": null,
      "max_height": null,
      "max_width": null,
      "min_height": null,
      "min_width": null,
      "object_fit": null,
      "object_position": null,
      "order": null,
      "overflow": null,
      "overflow_x": null,
      "overflow_y": null,
      "padding": null,
      "right": null,
      "top": null,
      "visibility": null,
      "width": null
     }
    },
    "70202ad66ea14f36b918e6474f6c721f": {
     "model_module": "@jupyter-widgets/controls",
     "model_module_version": "1.5.0",
     "model_name": "SliderStyleModel",
     "state": {
      "_model_module": "@jupyter-widgets/controls",
      "_model_module_version": "1.5.0",
      "_model_name": "SliderStyleModel",
      "_view_count": null,
      "_view_module": "@jupyter-widgets/base",
      "_view_module_version": "1.2.0",
      "_view_name": "StyleView",
      "description_width": "",
      "handle_color": null
     }
    },
    "76859e4150c84fc3a517dbeacd9fd342": {
     "model_module": "@jupyter-widgets/controls",
     "model_module_version": "1.5.0",
     "model_name": "DescriptionStyleModel",
     "state": {
      "_model_module": "@jupyter-widgets/controls",
      "_model_module_version": "1.5.0",
      "_model_name": "DescriptionStyleModel",
      "_view_count": null,
      "_view_module": "@jupyter-widgets/base",
      "_view_module_version": "1.2.0",
      "_view_name": "StyleView",
      "description_width": ""
     }
    },
    "7d9490b6f45c4323912a6c2ba357f86d": {
     "model_module": "@jupyter-widgets/output",
     "model_module_version": "1.0.0",
     "model_name": "OutputModel",
     "state": {
      "_dom_classes": [],
      "_model_module": "@jupyter-widgets/output",
      "_model_module_version": "1.0.0",
      "_model_name": "OutputModel",
      "_view_count": null,
      "_view_module": "@jupyter-widgets/output",
      "_view_module_version": "1.0.0",
      "_view_name": "OutputView",
      "layout": "IPY_MODEL_4b7bf203d6324f7597d396548692360e",
      "msg_id": "",
      "outputs": [
       {
        "data": {
         "image/png": "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\n",
         "text/plain": "<Figure size 640x480 with 1 Axes>"
        },
        "metadata": {},
        "output_type": "display_data"
       }
      ]
     }
    },
    "846e4ef27eba466f902c2c386e0ad15d": {
     "model_module": "@jupyter-widgets/controls",
     "model_module_version": "1.5.0",
     "model_name": "FloatSliderModel",
     "state": {
      "_dom_classes": [],
      "_model_module": "@jupyter-widgets/controls",
      "_model_module_version": "1.5.0",
      "_model_name": "FloatSliderModel",
      "_view_count": null,
      "_view_module": "@jupyter-widgets/controls",
      "_view_module_version": "1.5.0",
      "_view_name": "FloatSliderView",
      "continuous_update": true,
      "description": "Temperature:",
      "description_tooltip": null,
      "disabled": false,
      "layout": "IPY_MODEL_6476bfa8e8704d328e477fefa214fee2",
      "max": 3,
      "min": 0.01,
      "orientation": "horizontal",
      "readout": true,
      "readout_format": ".2f",
      "step": 0.2,
      "style": "IPY_MODEL_8766eb2b11e64142b5e98eee953a1eb9",
      "value": 1.81
     }
    },
    "8766eb2b11e64142b5e98eee953a1eb9": {
     "model_module": "@jupyter-widgets/controls",
     "model_module_version": "1.5.0",
     "model_name": "SliderStyleModel",
     "state": {
      "_model_module": "@jupyter-widgets/controls",
      "_model_module_version": "1.5.0",
      "_model_name": "SliderStyleModel",
      "_view_count": null,
      "_view_module": "@jupyter-widgets/base",
      "_view_module_version": "1.2.0",
      "_view_name": "StyleView",
      "description_width": "",
      "handle_color": null
     }
    },
    "ad68f07e9f5e4fb3a19adcd523f92053": {
     "model_module": "@jupyter-widgets/base",
     "model_module_version": "1.2.0",
     "model_name": "LayoutModel",
     "state": {
      "_model_module": "@jupyter-widgets/base",
      "_model_module_version": "1.2.0",
      "_model_name": "LayoutModel",
      "_view_count": null,
      "_view_module": "@jupyter-widgets/base",
      "_view_module_version": "1.2.0",
      "_view_name": "LayoutView",
      "align_content": null,
      "align_items": null,
      "align_self": null,
      "border": null,
      "bottom": null,
      "display": null,
      "flex": null,
      "flex_flow": null,
      "grid_area": null,
      "grid_auto_columns": null,
      "grid_auto_flow": null,
      "grid_auto_rows": null,
      "grid_column": null,
      "grid_gap": null,
      "grid_row": null,
      "grid_template_areas": null,
      "grid_template_columns": null,
      "grid_template_rows": null,
      "height": null,
      "justify_content": null,
      "justify_items": null,
      "left": null,
      "margin": null,
      "max_height": null,
      "max_width": null,
      "min_height": null,
      "min_width": null,
      "object_fit": null,
      "object_position": null,
      "order": null,
      "overflow": null,
      "overflow_x": null,
      "overflow_y": null,
      "padding": null,
      "right": null,
      "top": null,
      "visibility": null,
      "width": null
     }
    },
    "c24dae8a9879415296f900e7d29484b7": {
     "model_module": "@jupyter-widgets/controls",
     "model_module_version": "1.5.0",
     "model_name": "IntSliderModel",
     "state": {
      "_dom_classes": [],
      "_model_module": "@jupyter-widgets/controls",
      "_model_module_version": "1.5.0",
      "_model_name": "IntSliderModel",
      "_view_count": null,
      "_view_module": "@jupyter-widgets/controls",
      "_view_module_version": "1.5.0",
      "_view_name": "IntSliderView",
      "continuous_update": true,
      "description": "top_k:",
      "description_tooltip": null,
      "disabled": false,
      "layout": "IPY_MODEL_ad68f07e9f5e4fb3a19adcd523f92053",
      "max": 20,
      "min": 5,
      "orientation": "horizontal",
      "readout": true,
      "readout_format": "d",
      "step": 1,
      "style": "IPY_MODEL_70202ad66ea14f36b918e6474f6c721f",
      "value": 13
     }
    },
    "cae29e9b2c9540ccbd93547a8deeda8b": {
     "model_module": "@jupyter-widgets/base",
     "model_module_version": "1.2.0",
     "model_name": "LayoutModel",
     "state": {
      "_model_module": "@jupyter-widgets/base",
      "_model_module_version": "1.2.0",
      "_model_name": "LayoutModel",
      "_view_count": null,
      "_view_module": "@jupyter-widgets/base",
      "_view_module_version": "1.2.0",
      "_view_name": "LayoutView",
      "align_content": null,
      "align_items": null,
      "align_self": null,
      "border": null,
      "bottom": null,
      "display": null,
      "flex": null,
      "flex_flow": null,
      "grid_area": null,
      "grid_auto_columns": null,
      "grid_auto_flow": null,
      "grid_auto_rows": null,
      "grid_column": null,
      "grid_gap": null,
      "grid_row": null,
      "grid_template_areas": null,
      "grid_template_columns": null,
      "grid_template_rows": null,
      "height": null,
      "justify_content": null,
      "justify_items": null,
      "left": null,
      "margin": null,
      "max_height": null,
      "max_width": null,
      "min_height": null,
      "min_width": null,
      "object_fit": null,
      "object_position": null,
      "order": null,
      "overflow": null,
      "overflow_x": null,
      "overflow_y": null,
      "padding": null,
      "right": null,
      "top": null,
      "visibility": null,
      "width": null
     }
    },
    "e37cdb370d6949d9ad773f8d8f9e24fa": {
     "model_module": "@jupyter-widgets/controls",
     "model_module_version": "1.5.0",
     "model_name": "TextModel",
     "state": {
      "_dom_classes": [],
      "_model_module": "@jupyter-widgets/controls",
      "_model_module_version": "1.5.0",
      "_model_name": "TextModel",
      "_view_count": null,
      "_view_module": "@jupyter-widgets/controls",
      "_view_module_version": "1.5.0",
      "_view_name": "TextView",
      "continuous_update": true,
      "description": "word",
      "description_tooltip": null,
      "disabled": false,
      "layout": "IPY_MODEL_cae29e9b2c9540ccbd93547a8deeda8b",
      "placeholder": "​",
      "style": "IPY_MODEL_76859e4150c84fc3a517dbeacd9fd342",
      "value": "украине"
     }
    },
    "ef13db445d4341c3a5b40e84f4b8124a": {
     "model_module": "@jupyter-widgets/controls",
     "model_module_version": "1.5.0",
     "model_name": "VBoxModel",
     "state": {
      "_dom_classes": [
       "widget-interact"
      ],
      "_model_module": "@jupyter-widgets/controls",
      "_model_module_version": "1.5.0",
      "_model_name": "VBoxModel",
      "_view_count": null,
      "_view_module": "@jupyter-widgets/controls",
      "_view_module_version": "1.5.0",
      "_view_name": "VBoxView",
      "box_style": "",
      "children": [
       "IPY_MODEL_e37cdb370d6949d9ad773f8d8f9e24fa",
       "IPY_MODEL_846e4ef27eba466f902c2c386e0ad15d",
       "IPY_MODEL_c24dae8a9879415296f900e7d29484b7",
       "IPY_MODEL_7d9490b6f45c4323912a6c2ba357f86d"
      ],
      "layout": "IPY_MODEL_431306af0abb46a9b5ff158e6758b30e"
     }
    }
   }
  }
 },
 "nbformat": 4,
 "nbformat_minor": 1
}
